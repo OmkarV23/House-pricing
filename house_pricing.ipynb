{
  "nbformat": 4,
  "nbformat_minor": 0,
  "metadata": {
    "colab": {
      "name": "house_pricing.ipynb",
      "provenance": [],
      "collapsed_sections": [],
      "mount_file_id": "1uBbE5WgIDoepIlk8nXOCVOfTCUO_s_qH",
      "authorship_tag": "ABX9TyOmsxXoAd0UaV0pioGZybBx",
      "include_colab_link": true
    },
    "kernelspec": {
      "name": "python3",
      "display_name": "Python 3"
    }
  },
  "cells": [
    {
      "cell_type": "markdown",
      "metadata": {
        "id": "view-in-github",
        "colab_type": "text"
      },
      "source": [
        "<a href=\"https://colab.research.google.com/github/OmkarV23/House-pricing/blob/main/house_pricing.ipynb\" target=\"_parent\"><img src=\"https://colab.research.google.com/assets/colab-badge.svg\" alt=\"Open In Colab\"/></a>"
      ]
    },
    {
      "cell_type": "code",
      "metadata": {
        "id": "XQVqrMajQeRb"
      },
      "source": [
        "import pandas as pd\r\n",
        "import numpy as np\r\n",
        "from sklearn.metrics import classification_report\r\n",
        "from sklearn.model_selection import KFold\r\n",
        "from sklearn.ensemble import GradientBoostingClassifier"
      ],
      "execution_count": 1,
      "outputs": []
    },
    {
      "cell_type": "code",
      "metadata": {
        "id": "a0odrcVuQrB-"
      },
      "source": [
        "train = pd.read_csv('/content/drive/MyDrive/house pricing set/train.csv')\r\n",
        "test = pd.read_csv('/content/drive/MyDrive/house pricing set/test.csv')"
      ],
      "execution_count": 95,
      "outputs": []
    },
    {
      "cell_type": "code",
      "metadata": {
        "colab": {
          "base_uri": "https://localhost:8080/"
        },
        "id": "rUUNRSscR1r-",
        "outputId": "ac21685a-6c22-4734-dbf9-ad41ac4bcc96"
      },
      "source": [
        "train.shape"
      ],
      "execution_count": 84,
      "outputs": [
        {
          "output_type": "execute_result",
          "data": {
            "text/plain": [
              "(1460, 81)"
            ]
          },
          "metadata": {
            "tags": []
          },
          "execution_count": 84
        }
      ]
    },
    {
      "cell_type": "code",
      "metadata": {
        "id": "CtIGRs49TKJv"
      },
      "source": [
        "num_columns  = train.select_dtypes(include=['int64','float64']).columns\r\n",
        "cat_features = train.select_dtypes(include='object').columns"
      ],
      "execution_count": 96,
      "outputs": []
    },
    {
      "cell_type": "code",
      "metadata": {
        "colab": {
          "base_uri": "https://localhost:8080/"
        },
        "id": "nf-QBqRiTT8v",
        "outputId": "503b23c4-70bd-4b5e-ab56-cdd45c38fcaa"
      },
      "source": [
        "train.isnull().sum().sort_values(ascending=False)[:38]"
      ],
      "execution_count": 86,
      "outputs": [
        {
          "output_type": "execute_result",
          "data": {
            "text/plain": [
              "PoolQC          1453\n",
              "MiscFeature     1406\n",
              "Alley           1369\n",
              "Fence           1179\n",
              "FireplaceQu      690\n",
              "LotFrontage      259\n",
              "GarageCond        81\n",
              "GarageType        81\n",
              "GarageYrBlt       81\n",
              "GarageFinish      81\n",
              "GarageQual        81\n",
              "BsmtExposure      38\n",
              "BsmtFinType2      38\n",
              "BsmtFinType1      37\n",
              "BsmtCond          37\n",
              "BsmtQual          37\n",
              "MasVnrArea         8\n",
              "MasVnrType         8\n",
              "Electrical         1\n",
              "Utilities          0\n",
              "YearRemodAdd       0\n",
              "MSSubClass         0\n",
              "Foundation         0\n",
              "ExterCond          0\n",
              "ExterQual          0\n",
              "Exterior2nd        0\n",
              "Exterior1st        0\n",
              "RoofMatl           0\n",
              "RoofStyle          0\n",
              "YearBuilt          0\n",
              "LotConfig          0\n",
              "OverallCond        0\n",
              "OverallQual        0\n",
              "HouseStyle         0\n",
              "BldgType           0\n",
              "Condition2         0\n",
              "BsmtFinSF1         0\n",
              "MSZoning           0\n",
              "dtype: int64"
            ]
          },
          "metadata": {
            "tags": []
          },
          "execution_count": 86
        }
      ]
    },
    {
      "cell_type": "code",
      "metadata": {
        "id": "CqpiDma6TgaJ"
      },
      "source": [
        "for i in num_columns:\r\n",
        "    \r\n",
        "    train[i].fillna(train[i].median(), inplace=True)\r\n",
        "    if(i != \"SalePrice\"): \r\n",
        "        test[i].fillna(test[i].median(), inplace=True)"
      ],
      "execution_count": null,
      "outputs": []
    },
    {
      "cell_type": "code",
      "metadata": {
        "id": "wwc3EVubUznf"
      },
      "source": [
        "cat_column_has_null = [\"Alley\", \"Electrical\", \"BsmtQual\", \"BsmtCond\", \"BsmtExposure\", \"BsmtFinType1\", \"BsmtFinType2\", \"FireplaceQu\", \"GarageType\", \"GarageFinish\", \"GarageQual\", \"GarageCond\", \"PoolQC\", \"Fence\", \"MiscFeature\"]\r\n",
        "\r\n",
        "for i in cat_features:\r\n",
        "    train[i].fillna(\"None\", inplace=True)\r\n",
        "    test[i].fillna(\"None\", inplace=True)"
      ],
      "execution_count": 98,
      "outputs": []
    },
    {
      "cell_type": "code",
      "metadata": {
        "colab": {
          "base_uri": "https://localhost:8080/"
        },
        "id": "yb2n-GA9VQiL",
        "outputId": "f7bde25a-c425-4f61-dfb2-e96d2eaa4ac5"
      },
      "source": [
        "from sklearn.preprocessing import LabelEncoder\r\n",
        "\r\n",
        "for i in cat_features:\r\n",
        "    print(i)\r\n",
        "    train[i] = LabelEncoder().fit_transform(train[i])  \r\n",
        "    test[i] = LabelEncoder().fit_transform(test[i])"
      ],
      "execution_count": 99,
      "outputs": [
        {
          "output_type": "stream",
          "text": [
            "MSZoning\n",
            "Street\n",
            "Alley\n",
            "LotShape\n",
            "LandContour\n",
            "Utilities\n",
            "LotConfig\n",
            "LandSlope\n",
            "Neighborhood\n",
            "Condition1\n",
            "Condition2\n",
            "BldgType\n",
            "HouseStyle\n",
            "RoofStyle\n",
            "RoofMatl\n",
            "Exterior1st\n",
            "Exterior2nd\n",
            "MasVnrType\n",
            "ExterQual\n",
            "ExterCond\n",
            "Foundation\n",
            "BsmtQual\n",
            "BsmtCond\n",
            "BsmtExposure\n",
            "BsmtFinType1\n",
            "BsmtFinType2\n",
            "Heating\n",
            "HeatingQC\n",
            "CentralAir\n",
            "Electrical\n",
            "KitchenQual\n",
            "Functional\n",
            "FireplaceQu\n",
            "GarageType\n",
            "GarageFinish\n",
            "GarageQual\n",
            "GarageCond\n",
            "PavedDrive\n",
            "PoolQC\n",
            "Fence\n",
            "MiscFeature\n",
            "SaleType\n",
            "SaleCondition\n"
          ],
          "name": "stdout"
        }
      ]
    },
    {
      "cell_type": "code",
      "metadata": {
        "id": "cZES9xP3VkGh"
      },
      "source": [
        "train = train.drop(columns=['Id','Street','PoolQC','Utilities'],axis=1)\r\n",
        "test = test.drop(columns=['Id','Street','PoolQC','Utilities'],axis=1)\r\n",
        "# some columns are dropped because there are many missing values"
      ],
      "execution_count": 111,
      "outputs": []
    },
    {
      "cell_type": "code",
      "metadata": {
        "colab": {
          "base_uri": "https://localhost:8080/"
        },
        "id": "4VVxMfYdWDkB",
        "outputId": "a6e102d7-b441-40db-97a0-3bc6c0c0e3e4"
      },
      "source": [
        "train_X = train.drop('SalePrice', axis = 1) \r\n",
        "train_y = train['SalePrice']\r\n",
        "train_X.shape, train_y.shape"
      ],
      "execution_count": 101,
      "outputs": [
        {
          "output_type": "execute_result",
          "data": {
            "text/plain": [
              "((1460, 76), (1460,))"
            ]
          },
          "metadata": {
            "tags": []
          },
          "execution_count": 101
        }
      ]
    },
    {
      "cell_type": "code",
      "metadata": {
        "id": "u88YG7kuWT5W"
      },
      "source": [
        "from sklearn.model_selection import train_test_split\r\n",
        "X_train, X_test, y_train, y_test = train_test_split(train_X, train_y,test_size = 0.2, random_state = 1)"
      ],
      "execution_count": 102,
      "outputs": []
    },
    {
      "cell_type": "code",
      "metadata": {
        "id": "VV7BuRzmXFdm"
      },
      "source": [
        "from sklearn import metrics\r\n",
        "import seaborn as sns\r\n",
        "import matplotlib.pyplot as plt\r\n",
        "\r\n",
        "def Model(estimator):\r\n",
        "    estimator.fit(X_train, y_train)\r\n",
        "    prediction = estimator.predict(X_test)\r\n",
        "    accuracy_score = estimator.score(X_train, y_train)\r\n",
        "    print( \"Prediction Score\", (accuracy_score * 100).round(2))\r\n",
        "    print('R_squared:', metrics.r2_score(y_test, prediction))\r\n",
        "    print('Square Root of MSE:',np.sqrt(metrics.mean_squared_error(y_test, prediction)))\r\n",
        "    plt.figure(figsize=(10,5))\r\n",
        "    sns.distplot(y_test, hist=True, kde=False)\r\n",
        "    sns.distplot(prediction, hist=True, kde=False)\r\n",
        "    plt.legend(labels=['Actual Values of Price', 'Predicted Values of Price'])\r\n",
        "    plt.xlim(0,)\r\n",
        "def FeatureBar(model_Features, Title, yLabel):\r\n",
        "    plt.bar(df.columns[df.columns!='SalePrice'].values, model_Features)\r\n",
        "    plt.xticks(rotation=45)\r\n",
        "    plt.title(Title)\r\n",
        "    plt.ylabel(yLabel)"
      ],
      "execution_count": 103,
      "outputs": []
    },
    {
      "cell_type": "code",
      "metadata": {
        "colab": {
          "base_uri": "https://localhost:8080/",
          "height": 438
        },
        "id": "xO3E49I1ZobC",
        "outputId": "00c25850-36dd-4bfb-abc1-ab0c706679e5"
      },
      "source": [
        "from sklearn.ensemble import GradientBoostingRegressor\r\n",
        "\r\n",
        "dt = GradientBoostingRegressor(loss='ls', learning_rate=0.1, max_depth=10, random_state=0, n_estimators=1000)\r\n",
        "Model(dt)"
      ],
      "execution_count": 104,
      "outputs": [
        {
          "output_type": "stream",
          "text": [
            "Prediction Score 100.0\n",
            "R_squared: 0.9029168849667611\n",
            "Square Root of MSE: 26313.328927251157\n"
          ],
          "name": "stdout"
        },
        {
          "output_type": "stream",
          "text": [
            "/usr/local/lib/python3.6/dist-packages/seaborn/distributions.py:2551: FutureWarning: `distplot` is a deprecated function and will be removed in a future version. Please adapt your code to use either `displot` (a figure-level function with similar flexibility) or `histplot` (an axes-level function for histograms).\n",
            "  warnings.warn(msg, FutureWarning)\n"
          ],
          "name": "stderr"
        },
        {
          "output_type": "display_data",
          "data": {
            "image/png": "[encoded data removed]",
            "text/plain": [
              "<Figure size 720x360 with 1 Axes>"
            ]
          },
          "metadata": {
            "tags": [],
            "needs_background": "light"
          }
        }
      ]
    },
    {
      "cell_type": "code",
      "metadata": {
        "colab": {
          "base_uri": "https://localhost:8080/",
          "height": 438
        },
        "id": "W6lCgvNb3Eas",
        "outputId": "a5a62f6a-aa17-46ee-a324-46882243bdc0"
      },
      "source": [
        "from sklearn.linear_model import LinearRegression\r\n",
        "\r\n",
        "lr = LinearRegression()\r\n",
        "Model(lr)"
      ],
      "execution_count": 105,
      "outputs": [
        {
          "output_type": "stream",
          "text": [
            "Prediction Score 84.73\n",
            "R_squared: 0.8118505249112506\n",
            "Square Root of MSE: 36631.56292947166\n"
          ],
          "name": "stdout"
        },
        {
          "output_type": "stream",
          "text": [
            "/usr/local/lib/python3.6/dist-packages/seaborn/distributions.py:2551: FutureWarning: `distplot` is a deprecated function and will be removed in a future version. Please adapt your code to use either `displot` (a figure-level function with similar flexibility) or `histplot` (an axes-level function for histograms).\n",
            "  warnings.warn(msg, FutureWarning)\n"
          ],
          "name": "stderr"
        },
        {
          "output_type": "display_data",
          "data": {
            "image/png": "[encoded data removed]",
            "text/plain": [
              "<Figure size 720x360 with 1 Axes>"
            ]
          },
          "metadata": {
            "tags": [],
            "needs_background": "light"
          }
        }
      ]
    },
    {
      "cell_type": "code",
      "metadata": {
        "colab": {
          "base_uri": "https://localhost:8080/",
          "height": 440
        },
        "id": "FP3ctuFAcRgC",
        "outputId": "66a33640-75b1-4088-c638-6d73efc8da97"
      },
      "source": [
        "from sklearn.tree import DecisionTreeRegressor\r\n",
        "\r\n",
        "dr = DecisionTreeRegressor(max_depth=15, random_state=0, splitter=\"random\")\r\n",
        "Model(dr)"
      ],
      "execution_count": 106,
      "outputs": [
        {
          "output_type": "stream",
          "text": [
            "Prediction Score 99.97\n",
            "R_squared: 0.7734852996301572\n",
            "Square Root of MSE: 40193.15883316739\n"
          ],
          "name": "stdout"
        },
        {
          "output_type": "stream",
          "text": [
            "/usr/local/lib/python3.6/dist-packages/seaborn/distributions.py:2551: FutureWarning: `distplot` is a deprecated function and will be removed in a future version. Please adapt your code to use either `displot` (a figure-level function with similar flexibility) or `histplot` (an axes-level function for histograms).\n",
            "  warnings.warn(msg, FutureWarning)\n"
          ],
          "name": "stderr"
        },
        {
          "output_type": "display_data",
          "data": {
            "image/png": "[encoded data removed]",
            "text/plain": [
              "<Figure size 720x360 with 1 Axes>"
            ]
          },
          "metadata": {
            "tags": [],
            "needs_background": "light"
          }
        }
      ]
    },
    {
      "cell_type": "code",
      "metadata": {
        "id": "xjiwelAJCwEW"
      },
      "source": [
        "#from sklearn import svm\r\n",
        "#sv = svm()"
      ],
      "execution_count": null,
      "outputs": []
    },
    {
      "cell_type": "code",
      "metadata": {
        "colab": {
          "base_uri": "https://localhost:8080/",
          "height": 136
        },
        "id": "PXe_qdkthn4u",
        "outputId": "8cf31c4c-84bd-4ddc-b6a9-cde7c6555cdf"
      },
      "source": [
        "regressor = ['Linear Regression', 'Gradient Boosted Decision Tree', 'Decision Tree']\r\n",
        "models = [LinearRegression(), DecisionTreeRegressor(max_depth=15, random_state=0), GradientBoostingRegressor(loss='ls', learning_rate=0.1, max_depth=10, random_state=0, n_estimators=1000)]\r\n",
        "R_squared = []\r\n",
        "RMSE = []\r\n",
        "Prediction_score = []\r\n",
        "for m in models:\r\n",
        "    m.fit(X_train, y_train)\r\n",
        "    prediction_m = m.predict(X_test)\r\n",
        "    accuracy_score = m.score(X_train, y_train)\r\n",
        "    prediction_score = (accuracy_score * 100).round(2)\r\n",
        "    r2 = metrics.r2_score(y_test, prediction_m)\r\n",
        "    rmse = np.sqrt(metrics.mean_squared_error(y_test, prediction_m))\r\n",
        "    Prediction_score.append(prediction_score)\r\n",
        "    R_squared.append(r2)\r\n",
        "    RMSE.append(rmse)\r\n",
        "basic_result = pd.DataFrame({'R squared':R_squared,'RMSE(Root Mean Squared Error)':RMSE,'Prediction Score':Prediction_score}, index=regressor)\r\n",
        "basic_result"
      ],
      "execution_count": 108,
      "outputs": [
        {
          "output_type": "execute_result",
          "data": {
            "text/html": [
              "<div>\n",
              "<style scoped>\n",
              "    .dataframe tbody tr th:only-of-type {\n",
              "        vertical-align: middle;\n",
              "    }\n",
              "\n",
              "    .dataframe tbody tr th {\n",
              "        vertical-align: top;\n",
              "    }\n",
              "\n",
              "    .dataframe thead th {\n",
              "        text-align: right;\n",
              "    }\n",
              "</style>\n",
              "<table border=\"1\" class=\"dataframe\">\n",
              "  <thead>\n",
              "    <tr style=\"text-align: right;\">\n",
              "      <th></th>\n",
              "      <th>R squared</th>\n",
              "      <th>RMSE(Root Mean Squared Error)</th>\n",
              "      <th>Prediction Score</th>\n",
              "    </tr>\n",
              "  </thead>\n",
              "  <tbody>\n",
              "    <tr>\n",
              "      <th>Linear Regression</th>\n",
              "      <td>0.811851</td>\n",
              "      <td>36631.562929</td>\n",
              "      <td>84.73</td>\n",
              "    </tr>\n",
              "    <tr>\n",
              "      <th>Gradient Boosted Decision Tree</th>\n",
              "      <td>0.827547</td>\n",
              "      <td>35070.321316</td>\n",
              "      <td>99.96</td>\n",
              "    </tr>\n",
              "    <tr>\n",
              "      <th>Decision Tree</th>\n",
              "      <td>0.902917</td>\n",
              "      <td>26313.328927</td>\n",
              "      <td>100.00</td>\n",
              "    </tr>\n",
              "  </tbody>\n",
              "</table>\n",
              "</div>"
            ],
            "text/plain": [
              "                                R squared  ...  Prediction Score\n",
              "Linear Regression                0.811851  ...             84.73\n",
              "Gradient Boosted Decision Tree   0.827547  ...             99.96\n",
              "Decision Tree                    0.902917  ...            100.00\n",
              "\n",
              "[3 rows x 3 columns]"
            ]
          },
          "metadata": {
            "tags": []
          },
          "execution_count": 108
        }
      ]
    },
    {
      "cell_type": "code",
      "metadata": {
        "id": "e0pr1Sdt9Ynh"
      },
      "source": [
        "dt.fit(X_train, y_train)\r\n",
        "dt_predictions = dt.predict(test)\r\n",
        "\r\n",
        "lr.fit(X_train, y_train)\r\n",
        "lr_predictions = lr.predict(test)\r\n",
        "\r\n",
        "dr.fit(X_train, y_train)\r\n",
        "dr_predictions = dr.predict(test)"
      ],
      "execution_count": 112,
      "outputs": []
    },
    {
      "cell_type": "code",
      "metadata": {
        "colab": {
          "base_uri": "https://localhost:8080/"
        },
        "id": "DsGZGAG4_ZBt",
        "outputId": "c3877a2f-3e85-4ce7-a633-be44f3c31afe"
      },
      "source": [
        "#import test data again\r\n",
        "test_again = pd.read_csv(\"/content/drive/MyDrive/house pricing set/test.csv\")\r\n",
        "final_result = pd.DataFrame({\"Id\": test_again[\"Id\"],\r\n",
        "        \"sale price using linear regression\": lr_predictions, \"sale price using Gradient Boosted Decision Tree\": dt_predictions, \"sale price using Decision Tree\": dr_predictions})\r\n",
        "final_result.to_csv(\"final_result.csv\", index=False)\r\n",
        "print(final_result.shape)"
      ],
      "execution_count": 114,
      "outputs": [
        {
          "output_type": "stream",
          "text": [
            "(1459, 4)\n"
          ],
          "name": "stdout"
        }
      ]
    }
  ]
}